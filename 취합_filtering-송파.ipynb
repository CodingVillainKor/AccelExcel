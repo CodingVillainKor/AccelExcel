{
 "cells": [
  {
   "cell_type": "code",
   "execution_count": 1,
   "metadata": {},
   "outputs": [],
   "source": [
    "import openpyxl"
   ]
  },
  {
   "cell_type": "code",
   "execution_count": 2,
   "metadata": {},
   "outputs": [
    {
     "name": "stdout",
     "output_type": "stream",
     "text": [
      "[['AAB3-797', '송파', '의류', 98000], ['AAB3-887', '송파', '침구', 129000], ['AAA1-900', '송파', '의류', 89000], ['BZK1-200', '송파', '의류', 89000], ['BZL1-202', '송파', '생필품', 25000]]\n"
     ]
    }
   ],
   "source": [
    "data = []\n",
    "\n",
    "for i in range(1, 6+1):\n",
    "    filename = \"2021/20210{}.xlsx\".format(i)\n",
    "    b = openpyxl.load_workbook(filename)\n",
    "    bs = b[\"Sheet\"]\n",
    "    \n",
    "    j=3\n",
    "    while True:\n",
    "        if bs[\"C{}\".format(j)].value == \"송파\":\n",
    "            data.append(\n",
    "                [\n",
    "                    bs[\"B{}\".format(j)].value, \n",
    "                    bs[\"C{}\".format(j)].value, \n",
    "                    bs[\"D{}\".format(j)].value, \n",
    "                    bs[\"E{}\".format(j)].value\n",
    "                ]\n",
    "            )\n",
    "        j = j+1\n",
    "        if bs[\"B{}\".format(j)].value == None:\n",
    "            break\n",
    "print(data)"
   ]
  },
  {
   "cell_type": "code",
   "execution_count": 3,
   "metadata": {},
   "outputs": [],
   "source": [
    "wb = openpyxl.Workbook()\n",
    "wb.create_sheet(\"01-06\")\n",
    "wb[\"01-06\"][\"B2\"] = \"판매코드\"\n",
    "wb[\"01-06\"][\"C2\"] = \"지점\"\n",
    "wb[\"01-06\"][\"D2\"] = \"종류\"\n",
    "wb[\"01-06\"][\"E2\"] = \"가격\"\n",
    "for i in range(len(data)):\n",
    "    wb[\"01-06\"][\"B{}\".format(i+3)] = data[i][0]\n",
    "    wb[\"01-06\"][\"C{}\".format(i+3)] = data[i][1]\n",
    "    wb[\"01-06\"][\"D{}\".format(i+3)] = data[i][2]\n",
    "    wb[\"01-06\"][\"E{}\".format(i+3)] = data[i][3]\n",
    "\n",
    "wb.save(\"송파_상반기.xlsx\")"
   ]
  }
 ],
 "metadata": {
  "kernelspec": {
   "display_name": "Python 3",
   "language": "python",
   "name": "python3"
  },
  "language_info": {
   "codemirror_mode": {
    "name": "ipython",
    "version": 3
   },
   "file_extension": ".py",
   "mimetype": "text/x-python",
   "name": "python",
   "nbconvert_exporter": "python",
   "pygments_lexer": "ipython3",
   "version": "3.6.4"
  }
 },
 "nbformat": 4,
 "nbformat_minor": 2
}
