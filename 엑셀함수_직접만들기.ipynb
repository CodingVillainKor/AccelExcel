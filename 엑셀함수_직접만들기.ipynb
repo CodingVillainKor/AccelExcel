{
 "cells": [
  {
   "cell_type": "code",
   "execution_count": 1,
   "metadata": {},
   "outputs": [],
   "source": [
    "import openpyxl"
   ]
  },
  {
   "cell_type": "code",
   "execution_count": 2,
   "metadata": {},
   "outputs": [],
   "source": [
    "b = openpyxl.load_workbook(\"data/f.xlsx\")\n",
    "#b = openpyxl.load_workbook(\"data/f2.xlsx\")"
   ]
  },
  {
   "cell_type": "code",
   "execution_count": 3,
   "metadata": {},
   "outputs": [
    {
     "name": "stdout",
     "output_type": "stream",
     "text": [
      "[98000, 89000, 89000]\n"
     ]
    }
   ],
   "source": [
    "answer = []\n",
    "\n",
    "for i in range(3, 18):\n",
    "    if b[\"Sheet\"][\"C{}\".format(i)].value == \"송파\":\n",
    "        if b[\"Sheet\"][\"D{}\".format(i)].value == \"의류\":\n",
    "            answer.append(b[\"Sheet\"][\"E{}\".format(i)].value)\n",
    "\n",
    "#for i in range(3, 6):\n",
    "#    if \"서울\" in b[\"Sheet\"][\"C{}\".format(i)].value:\n",
    "#        answer.append(b[\"Sheet\"][\"E{}\".format(i)])\n",
    "\n",
    "#for i in range(3, 6):\n",
    "#    if \"AAB\" in b[\"Sheet\"][\"C{}\".format(i)].value.upper():\n",
    "#        answer.append(b[\"Sheet\"][\"E{}\".format(i)])\n",
    " \n",
    "print(answer)"
   ]
  },
  {
   "cell_type": "code",
   "execution_count": 4,
   "metadata": {},
   "outputs": [],
   "source": [
    "b[\"Sheet\"][\"G3\"] = max(answer)\n",
    "b[\"Sheet\"][\"H3\"] = min(answer)\n",
    "b[\"Sheet\"][\"I3\"] = sum(answer)\n",
    "\n",
    "b.save(\"p.xlsx\")"
   ]
  }
 ],
 "metadata": {
  "kernelspec": {
   "display_name": "Python 3",
   "language": "python",
   "name": "python3"
  },
  "language_info": {
   "codemirror_mode": {
    "name": "ipython",
    "version": 3
   },
   "file_extension": ".py",
   "mimetype": "text/x-python",
   "name": "python",
   "nbconvert_exporter": "python",
   "pygments_lexer": "ipython3",
   "version": "3.6.4"
  }
 },
 "nbformat": 4,
 "nbformat_minor": 2
}
