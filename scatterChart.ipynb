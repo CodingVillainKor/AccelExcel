{
 "cells": [
  {
   "cell_type": "code",
   "execution_count": 1,
   "metadata": {},
   "outputs": [],
   "source": [
    "import openpyxl\n",
    "from openpyxl.chart import ScatterChart, Reference, Series\n",
    "\n",
    "wb = openpyxl.load_workbook(\"data/Bias_correction_ucl.xlsx\")"
   ]
  },
  {
   "cell_type": "code",
   "execution_count": 2,
   "metadata": {},
   "outputs": [],
   "source": [
    "sheet = wb[\"Sheet1\"]\n",
    "last_row = len(sheet[\"A\"])\n",
    "\n",
    "chart = ScatterChart()\n",
    "\n",
    "x = Reference(sheet, min_col=6, min_row=2, max_row=300)\n",
    "y = Reference(sheet, min_col=7, min_row=2, max_row=300)\n",
    "\n",
    "series = Series(values=y, xvalues=x, title=\"F and G\")\n",
    "series.marker=openpyxl.chart.marker.Marker('square')\n",
    "series.graphicalProperties.line.noFill=True\n",
    "\n",
    "chart.series.append(series)\n",
    "\n",
    "sheet.add_chart(chart, \"H2\")\n",
    "wb.save(\"chart_data.xlsx\")"
   ]
  }
 ],
 "metadata": {
  "kernelspec": {
   "display_name": "Python 3",
   "language": "python",
   "name": "python3"
  },
  "language_info": {
   "codemirror_mode": {
    "name": "ipython",
    "version": 3
   },
   "file_extension": ".py",
   "mimetype": "text/x-python",
   "name": "python",
   "nbconvert_exporter": "python",
   "pygments_lexer": "ipython3",
   "version": "3.6.4"
  }
 },
 "nbformat": 4,
 "nbformat_minor": 2
}
